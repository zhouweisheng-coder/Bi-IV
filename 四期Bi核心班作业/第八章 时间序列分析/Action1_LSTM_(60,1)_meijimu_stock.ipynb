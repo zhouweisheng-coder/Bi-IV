{
 "cells": [
  {
   "cell_type": "markdown",
   "metadata": {},
   "source": [
    "# Action1_LSTM_(60,1)_meijimu_stock"
   ]
  },
  {
   "cell_type": "code",
   "execution_count": 1,
   "metadata": {},
   "outputs": [],
   "source": [
    "import numpy as np\n",
    "import tensorflow as tf\n",
    "from tensorflow.keras.layers import Dropout, Dense, LSTM\n",
    "import matplotlib.pyplot as plt\n",
    "import os\n",
    "import pandas as pd\n",
    "from sklearn.preprocessing import MinMaxScaler\n",
    "from sklearn.metrics import mean_squared_error, mean_absolute_error\n",
    "import math"
   ]
  },
  {
   "cell_type": "code",
   "execution_count": 165,
   "metadata": {},
   "outputs": [
    {
     "data": {
      "text/html": [
       "<div>\n",
       "<style scoped>\n",
       "    .dataframe tbody tr th:only-of-type {\n",
       "        vertical-align: middle;\n",
       "    }\n",
       "\n",
       "    .dataframe tbody tr th {\n",
       "        vertical-align: top;\n",
       "    }\n",
       "\n",
       "    .dataframe thead th {\n",
       "        text-align: right;\n",
       "    }\n",
       "</style>\n",
       "<table border=\"1\" class=\"dataframe\">\n",
       "  <thead>\n",
       "    <tr style=\"text-align: right;\">\n",
       "      <th></th>\n",
       "      <th>日期</th>\n",
       "      <th>股票代码</th>\n",
       "      <th>名称</th>\n",
       "      <th>收盘价</th>\n",
       "      <th>最高价</th>\n",
       "      <th>最低价</th>\n",
       "      <th>开盘价</th>\n",
       "      <th>前收盘</th>\n",
       "      <th>涨跌额</th>\n",
       "      <th>涨跌幅</th>\n",
       "      <th>换手率</th>\n",
       "      <th>成交量</th>\n",
       "      <th>成交金额</th>\n",
       "      <th>总市值</th>\n",
       "      <th>流通市值</th>\n",
       "    </tr>\n",
       "  </thead>\n",
       "  <tbody>\n",
       "    <tr>\n",
       "      <th>2195</th>\n",
       "      <td>2011/9/29</td>\n",
       "      <td>'002621</td>\n",
       "      <td>N三垒</td>\n",
       "      <td>24.08</td>\n",
       "      <td>25.15</td>\n",
       "      <td>22.88</td>\n",
       "      <td>23.98</td>\n",
       "      <td>24.00</td>\n",
       "      <td>0.08</td>\n",
       "      <td>0.3333</td>\n",
       "      <td>57.5282</td>\n",
       "      <td>11522900</td>\n",
       "      <td>2.806628e+08</td>\n",
       "      <td>2408000000</td>\n",
       "      <td>482322400</td>\n",
       "    </tr>\n",
       "    <tr>\n",
       "      <th>2194</th>\n",
       "      <td>2011/9/30</td>\n",
       "      <td>'002621</td>\n",
       "      <td>大连三垒</td>\n",
       "      <td>22.69</td>\n",
       "      <td>23.80</td>\n",
       "      <td>22.05</td>\n",
       "      <td>23.10</td>\n",
       "      <td>24.08</td>\n",
       "      <td>-1.39</td>\n",
       "      <td>-5.7724</td>\n",
       "      <td>26.7312</td>\n",
       "      <td>5354251</td>\n",
       "      <td>1.215095e+08</td>\n",
       "      <td>2269000000</td>\n",
       "      <td>454480700</td>\n",
       "    </tr>\n",
       "    <tr>\n",
       "      <th>2193</th>\n",
       "      <td>2011/10/10</td>\n",
       "      <td>'002621</td>\n",
       "      <td>大连三垒</td>\n",
       "      <td>23.60</td>\n",
       "      <td>24.18</td>\n",
       "      <td>22.36</td>\n",
       "      <td>22.66</td>\n",
       "      <td>22.69</td>\n",
       "      <td>0.91</td>\n",
       "      <td>4.0106</td>\n",
       "      <td>22.7764</td>\n",
       "      <td>4562109</td>\n",
       "      <td>1.065325e+08</td>\n",
       "      <td>2360000000</td>\n",
       "      <td>472708000</td>\n",
       "    </tr>\n",
       "    <tr>\n",
       "      <th>2192</th>\n",
       "      <td>2011/10/11</td>\n",
       "      <td>'002621</td>\n",
       "      <td>大连三垒</td>\n",
       "      <td>24.13</td>\n",
       "      <td>25.85</td>\n",
       "      <td>23.70</td>\n",
       "      <td>24.25</td>\n",
       "      <td>23.60</td>\n",
       "      <td>0.53</td>\n",
       "      <td>2.2458</td>\n",
       "      <td>34.9752</td>\n",
       "      <td>7005537</td>\n",
       "      <td>1.723708e+08</td>\n",
       "      <td>2413000000</td>\n",
       "      <td>483323900</td>\n",
       "    </tr>\n",
       "    <tr>\n",
       "      <th>2191</th>\n",
       "      <td>2011/10/12</td>\n",
       "      <td>'002621</td>\n",
       "      <td>大连三垒</td>\n",
       "      <td>24.80</td>\n",
       "      <td>25.15</td>\n",
       "      <td>22.55</td>\n",
       "      <td>23.60</td>\n",
       "      <td>24.13</td>\n",
       "      <td>0.67</td>\n",
       "      <td>2.7766</td>\n",
       "      <td>30.1920</td>\n",
       "      <td>6047448</td>\n",
       "      <td>1.458584e+08</td>\n",
       "      <td>2480000000</td>\n",
       "      <td>496744000</td>\n",
       "    </tr>\n",
       "    <tr>\n",
       "      <th>...</th>\n",
       "      <td>...</td>\n",
       "      <td>...</td>\n",
       "      <td>...</td>\n",
       "      <td>...</td>\n",
       "      <td>...</td>\n",
       "      <td>...</td>\n",
       "      <td>...</td>\n",
       "      <td>...</td>\n",
       "      <td>...</td>\n",
       "      <td>...</td>\n",
       "      <td>...</td>\n",
       "      <td>...</td>\n",
       "      <td>...</td>\n",
       "      <td>...</td>\n",
       "      <td>...</td>\n",
       "    </tr>\n",
       "    <tr>\n",
       "      <th>4</th>\n",
       "      <td>2020/10/12</td>\n",
       "      <td>'002621</td>\n",
       "      <td>美吉姆</td>\n",
       "      <td>6.96</td>\n",
       "      <td>6.99</td>\n",
       "      <td>6.72</td>\n",
       "      <td>6.99</td>\n",
       "      <td>6.86</td>\n",
       "      <td>0.1</td>\n",
       "      <td>1.4577</td>\n",
       "      <td>0.5032</td>\n",
       "      <td>4071930</td>\n",
       "      <td>2.812961e+07</td>\n",
       "      <td>5753573554</td>\n",
       "      <td>5632501229</td>\n",
       "    </tr>\n",
       "    <tr>\n",
       "      <th>3</th>\n",
       "      <td>2020/10/13</td>\n",
       "      <td>'002621</td>\n",
       "      <td>美吉姆</td>\n",
       "      <td>6.95</td>\n",
       "      <td>6.96</td>\n",
       "      <td>6.84</td>\n",
       "      <td>6.95</td>\n",
       "      <td>6.96</td>\n",
       "      <td>-0.01</td>\n",
       "      <td>-0.1437</td>\n",
       "      <td>0.2279</td>\n",
       "      <td>1844460</td>\n",
       "      <td>1.275408e+07</td>\n",
       "      <td>5745306926</td>\n",
       "      <td>5624408555</td>\n",
       "    </tr>\n",
       "    <tr>\n",
       "      <th>2</th>\n",
       "      <td>2020/10/14</td>\n",
       "      <td>'002621</td>\n",
       "      <td>美吉姆</td>\n",
       "      <td>6.85</td>\n",
       "      <td>7.16</td>\n",
       "      <td>6.84</td>\n",
       "      <td>6.93</td>\n",
       "      <td>6.95</td>\n",
       "      <td>-0.1</td>\n",
       "      <td>-1.4388</td>\n",
       "      <td>0.4038</td>\n",
       "      <td>3267859</td>\n",
       "      <td>2.279647e+07</td>\n",
       "      <td>5662640639</td>\n",
       "      <td>5543481813</td>\n",
       "    </tr>\n",
       "    <tr>\n",
       "      <th>1</th>\n",
       "      <td>2020/10/15</td>\n",
       "      <td>'002621</td>\n",
       "      <td>美吉姆</td>\n",
       "      <td>7.04</td>\n",
       "      <td>7.23</td>\n",
       "      <td>6.90</td>\n",
       "      <td>7.02</td>\n",
       "      <td>6.85</td>\n",
       "      <td>0.19</td>\n",
       "      <td>2.7737</td>\n",
       "      <td>0.7743</td>\n",
       "      <td>6265798</td>\n",
       "      <td>4.435304e+07</td>\n",
       "      <td>5819706584</td>\n",
       "      <td>5697242623</td>\n",
       "    </tr>\n",
       "    <tr>\n",
       "      <th>0</th>\n",
       "      <td>2020/10/16</td>\n",
       "      <td>'002621</td>\n",
       "      <td>美吉姆</td>\n",
       "      <td>7.07</td>\n",
       "      <td>7.19</td>\n",
       "      <td>6.97</td>\n",
       "      <td>7.00</td>\n",
       "      <td>7.04</td>\n",
       "      <td>0.03</td>\n",
       "      <td>0.4261</td>\n",
       "      <td>0.5747</td>\n",
       "      <td>4651108</td>\n",
       "      <td>3.302721e+07</td>\n",
       "      <td>5844506470</td>\n",
       "      <td>5721520645</td>\n",
       "    </tr>\n",
       "  </tbody>\n",
       "</table>\n",
       "<p>2196 rows × 15 columns</p>\n",
       "</div>"
      ],
      "text/plain": [
       "              日期     股票代码    名称    收盘价    最高价    最低价    开盘价    前收盘    涨跌额  \\\n",
       "2195   2011/9/29  '002621   N三垒  24.08  25.15  22.88  23.98  24.00   0.08   \n",
       "2194   2011/9/30  '002621  大连三垒  22.69  23.80  22.05  23.10  24.08  -1.39   \n",
       "2193  2011/10/10  '002621  大连三垒  23.60  24.18  22.36  22.66  22.69   0.91   \n",
       "2192  2011/10/11  '002621  大连三垒  24.13  25.85  23.70  24.25  23.60   0.53   \n",
       "2191  2011/10/12  '002621  大连三垒  24.80  25.15  22.55  23.60  24.13   0.67   \n",
       "...          ...      ...   ...    ...    ...    ...    ...    ...    ...   \n",
       "4     2020/10/12  '002621   美吉姆   6.96   6.99   6.72   6.99   6.86    0.1   \n",
       "3     2020/10/13  '002621   美吉姆   6.95   6.96   6.84   6.95   6.96  -0.01   \n",
       "2     2020/10/14  '002621   美吉姆   6.85   7.16   6.84   6.93   6.95   -0.1   \n",
       "1     2020/10/15  '002621   美吉姆   7.04   7.23   6.90   7.02   6.85   0.19   \n",
       "0     2020/10/16  '002621   美吉姆   7.07   7.19   6.97   7.00   7.04   0.03   \n",
       "\n",
       "          涨跌幅      换手率       成交量          成交金额         总市值        流通市值  \n",
       "2195   0.3333  57.5282  11522900  2.806628e+08  2408000000   482322400  \n",
       "2194  -5.7724  26.7312   5354251  1.215095e+08  2269000000   454480700  \n",
       "2193   4.0106  22.7764   4562109  1.065325e+08  2360000000   472708000  \n",
       "2192   2.2458  34.9752   7005537  1.723708e+08  2413000000   483323900  \n",
       "2191   2.7766  30.1920   6047448  1.458584e+08  2480000000   496744000  \n",
       "...       ...      ...       ...           ...         ...         ...  \n",
       "4      1.4577   0.5032   4071930  2.812961e+07  5753573554  5632501229  \n",
       "3     -0.1437   0.2279   1844460  1.275408e+07  5745306926  5624408555  \n",
       "2     -1.4388   0.4038   3267859  2.279647e+07  5662640639  5543481813  \n",
       "1      2.7737   0.7743   6265798  4.435304e+07  5819706584  5697242623  \n",
       "0      0.4261   0.5747   4651108  3.302721e+07  5844506470  5721520645  \n",
       "\n",
       "[2196 rows x 15 columns]"
      ]
     },
     "execution_count": 165,
     "metadata": {},
     "output_type": "execute_result"
    }
   ],
   "source": [
    "meijimu = pd.read_csv('./002621.csv')  # 读取股票文件\n",
    "meijimu[::-1]"
   ]
  },
  {
   "cell_type": "code",
   "execution_count": 166,
   "metadata": {},
   "outputs": [
    {
     "data": {
      "text/plain": [
       "日期        2011/9/29\n",
       "股票代码        '002621\n",
       "名称              N三垒\n",
       "收盘价           24.08\n",
       "最高价           25.15\n",
       "最低价           22.88\n",
       "开盘价           23.98\n",
       "前收盘              24\n",
       "涨跌额            0.08\n",
       "涨跌幅          0.3333\n",
       "换手率         57.5282\n",
       "成交量        11522900\n",
       "成交金额    2.80663e+08\n",
       "总市值      2408000000\n",
       "流通市值      482322400\n",
       "Name: 2195, dtype: object"
      ]
     },
     "execution_count": 166,
     "metadata": {},
     "output_type": "execute_result"
    }
   ],
   "source": [
    "# meijimu = meijimu[::-1]\n",
    "meijimu.iloc[0]"
   ]
  },
  {
   "cell_type": "code",
   "execution_count": 167,
   "metadata": {},
   "outputs": [],
   "source": [
    "train_set = meijimu.iloc[0:2196 - 300, 6:7].values  # 前(2196-300=1896)天的开盘价作为训练集,表格从0开始计数，6:7是提取[6:7)列，前闭后开,故提取出开盘价\n",
    "test_set = meijimu.iloc[2196 - 300:, 6:7].values  # 后300天也就是最近的300天的开盘价作为测试集"
   ]
  },
  {
   "cell_type": "code",
   "execution_count": 168,
   "metadata": {},
   "outputs": [
    {
     "data": {
      "text/plain": [
       "((1896, 1), (300, 1))"
      ]
     },
     "execution_count": 168,
     "metadata": {},
     "output_type": "execute_result"
    }
   ],
   "source": [
    "train_set.shape,test_set.shape"
   ]
  },
  {
   "cell_type": "code",
   "execution_count": 169,
   "metadata": {},
   "outputs": [],
   "source": [
    "# 归一化\n",
    "sc = MinMaxScaler(feature_range=(0, 1))  # 定义归一化：归一化到(0，1)之间\n",
    "train_set_scaled = sc.fit_transform(train_set)  # 求得训练集的最大值，最小值这些训练集固有的属性，并在训练集上进行归一化\n",
    "test_set = sc.transform(test_set)  # 利用训练集的属性对测试集进行归一化"
   ]
  },
  {
   "cell_type": "code",
   "execution_count": 170,
   "metadata": {},
   "outputs": [],
   "source": [
    "x_train = []\n",
    "y_train = []\n",
    "\n",
    "x_test = []\n",
    "y_test = []\n",
    "\n",
    "# 测试集：csv表格中前2196-300=1896天数据\n",
    "# 利用for循环，遍历整个训练集，提取训练集中连续60天的开盘价作为输入特征x_train，第61天的数据作为标签，for循环共构建2196-300-60=1836组数据。\n",
    "for i in range(60, len(train_set_scaled)):\n",
    "    x_train.append(train_set_scaled[i - 60:i, 0]) # 1836\n",
    "    y_train.append(train_set_scaled[i, 0]) # 1836"
   ]
  },
  {
   "cell_type": "code",
   "execution_count": 173,
   "metadata": {},
   "outputs": [
    {
     "data": {
      "text/plain": [
       "0.38624019312009655"
      ]
     },
     "execution_count": 173,
     "metadata": {},
     "output_type": "execute_result"
    }
   ],
   "source": [
    "y_train[-1]"
   ]
  },
  {
   "cell_type": "code",
   "execution_count": 10,
   "metadata": {},
   "outputs": [],
   "source": [
    "# 对训练集进行打乱\n",
    "np.random.seed(7)\n",
    "np.random.shuffle(x_train)\n",
    "np.random.seed(7)\n",
    "np.random.shuffle(y_train)\n",
    "tf.random.set_seed(7)"
   ]
  },
  {
   "cell_type": "code",
   "execution_count": 11,
   "metadata": {},
   "outputs": [],
   "source": [
    "# 将训练集由list格式变为array格式\n",
    "x_train, y_train = np.array(x_train), np.array(y_train)"
   ]
  },
  {
   "cell_type": "code",
   "execution_count": 12,
   "metadata": {},
   "outputs": [
    {
     "data": {
      "text/plain": [
       "array([[0.53651177, 0.51297526, 0.52082076, ..., 0.52172601, 0.51297526,\n",
       "        0.51991551],\n",
       "       [0.38322269, 0.38624019, 0.38925769, ..., 0.39921545, 0.38774894,\n",
       "        0.37718769],\n",
       "       [0.75709113, 0.70911285, 0.69764635, ..., 0.        , 0.        ,\n",
       "        0.        ],\n",
       "       ...,\n",
       "       [0.4097767 , 0.41128546, 0.42607121, ..., 0.46167773, 0.47163549,\n",
       "        0.46710923],\n",
       "       [0.65479783, 0.64182257, 0.62854556, ..., 0.84791792, 0.86541943,\n",
       "        0.85485818],\n",
       "       [0.4073627 , 0.3983102 , 0.40102595, ..., 0.35304768, 0.3922752 ,\n",
       "        0.3940857 ]])"
      ]
     },
     "execution_count": 12,
     "metadata": {},
     "output_type": "execute_result"
    }
   ],
   "source": [
    "x_train"
   ]
  },
  {
   "cell_type": "code",
   "execution_count": 13,
   "metadata": {},
   "outputs": [
    {
     "data": {
      "text/plain": [
       "(1836, 60)"
      ]
     },
     "execution_count": 13,
     "metadata": {},
     "output_type": "execute_result"
    }
   ],
   "source": [
    "x_train.shape"
   ]
  },
  {
   "cell_type": "code",
   "execution_count": 14,
   "metadata": {},
   "outputs": [
    {
     "data": {
      "text/plain": [
       "(1836, 60, 1)"
      ]
     },
     "execution_count": 14,
     "metadata": {},
     "output_type": "execute_result"
    }
   ],
   "source": [
    "# 使x_train符合RNN输入要求：[送入样本数， 循环核时间展开步数， 每个时间步输入特征个数]。\n",
    "# 此处整个数据集送入，送入样本数为x_train.shape[0]即1836组数据；输入60个开盘价，预测出第61天的开盘价，循环核时间展开步数为60; 每个时间步送入的特征是某一天的开盘价，只有1个数据，故每个时间步输入特征个数为1\n",
    "x_train = np.reshape(x_train, (x_train.shape[0], 60, 1))\n",
    "x_train.shape"
   ]
  },
  {
   "cell_type": "code",
   "execution_count": 15,
   "metadata": {},
   "outputs": [],
   "source": [
    "# 测试集：csv表格中后300天数据\n",
    "# 利用for循环，遍历整个测试集，提取测试集中连续60天的开盘价作为输入特征x_train，第61天的数据作为标签，for循环共构建300-60=240组数据。\n",
    "for i in range(60, len(test_set)):\n",
    "    x_test.append(test_set[i - 60:i, 0])\n",
    "    y_test.append(test_set[i, 0])\n",
    "# 测试集变array并reshape为符合RNN输入要求：[送入样本数， 循环核时间展开步数， 每个时间步输入特征个数]\n",
    "x_test, y_test = np.array(x_test), np.array(y_test)\n",
    "x_test = np.reshape(x_test, (x_test.shape[0], 60, 1))"
   ]
  },
  {
   "cell_type": "code",
   "execution_count": 16,
   "metadata": {},
   "outputs": [],
   "source": [
    "# 构建LSTM模型\n",
    "model = tf.keras.Sequential([\n",
    "    LSTM(80, return_sequences=True),\n",
    "    Dropout(0.2),\n",
    "    LSTM(100),\n",
    "    Dropout(0.2),\n",
    "    Dense(1)\n",
    "])"
   ]
  },
  {
   "cell_type": "code",
   "execution_count": 17,
   "metadata": {},
   "outputs": [],
   "source": [
    "# 配置优化器，损失函数\n",
    "# 该应用只观测loss数值，不观测准确率，所以删去metrics选项，一会在每个epoch迭代显示时只显示loss值\n",
    "model.compile(optimizer=tf.keras.optimizers.Adam(0.001),\n",
    "              loss='mean_squared_error')  # 损失函数用均方误差"
   ]
  },
  {
   "cell_type": "code",
   "execution_count": 18,
   "metadata": {},
   "outputs": [],
   "source": [
    "# 设置checkpoint配置路径\n",
    "checkpoint_save_path = \"./checkpoint/LSTM_stock.ckpt\"\n",
    "\n",
    "if os.path.exists(checkpoint_save_path + '.index'):\n",
    "    print('-------------load the model-----------------')\n",
    "    model.load_weights(checkpoint_save_path)"
   ]
  },
  {
   "cell_type": "code",
   "execution_count": 19,
   "metadata": {},
   "outputs": [],
   "source": [
    "# 回调函数，保存最优模型\n",
    "cp_callback = tf.keras.callbacks.ModelCheckpoint(filepath=checkpoint_save_path,\n",
    "                                                 save_weights_only=True,\n",
    "                                                 save_best_only=True,\n",
    "                                                 monitor='val_loss')"
   ]
  },
  {
   "cell_type": "code",
   "execution_count": 27,
   "metadata": {},
   "outputs": [
    {
     "name": "stdout",
     "output_type": "stream",
     "text": [
      "Epoch 1/10\n",
      "29/29 [==============================] - 4s 130ms/step - loss: 0.0100 - val_loss: 6.9348e-04\n",
      "Epoch 2/10\n",
      "29/29 [==============================] - 4s 134ms/step - loss: 0.0094 - val_loss: 3.6851e-04\n",
      "Epoch 3/10\n",
      "29/29 [==============================] - 3s 116ms/step - loss: 0.0087 - val_loss: 3.1641e-04\n",
      "Epoch 4/10\n",
      "29/29 [==============================] - 4s 138ms/step - loss: 0.0086 - val_loss: 7.1571e-04\n",
      "Epoch 5/10\n",
      "29/29 [==============================] - 4s 139ms/step - loss: 0.0079 - val_loss: 6.4727e-04\n",
      "Epoch 6/10\n",
      "29/29 [==============================] - 4s 142ms/step - loss: 0.0083 - val_loss: 2.8164e-04\n",
      "Epoch 7/10\n",
      "29/29 [==============================] - 4s 124ms/step - loss: 0.0077 - val_loss: 4.9133e-04\n",
      "Epoch 8/10\n",
      "29/29 [==============================] - 3s 106ms/step - loss: 0.0076 - val_loss: 2.1031e-04\n",
      "Epoch 9/10\n",
      "29/29 [==============================] - 3s 117ms/step - loss: 0.0073 - val_loss: 2.2210e-04\n",
      "Epoch 10/10\n",
      "29/29 [==============================] - 3s 115ms/step - loss: 0.0072 - val_loss: 8.3683e-04\n"
     ]
    }
   ],
   "source": [
    "# 模型训练拟合\n",
    "history = model.fit(x_train, y_train, batch_size=64, epochs=10, validation_data=(x_test, y_test), validation_freq=1,\n",
    "                    callbacks=[cp_callback])"
   ]
  },
  {
   "cell_type": "code",
   "execution_count": 28,
   "metadata": {},
   "outputs": [
    {
     "name": "stdout",
     "output_type": "stream",
     "text": [
      "Model: \"sequential\"\n",
      "_________________________________________________________________\n",
      "Layer (type)                 Output Shape              Param #   \n",
      "=================================================================\n",
      "lstm (LSTM)                  (None, 60, 80)            26240     \n",
      "_________________________________________________________________\n",
      "dropout (Dropout)            (None, 60, 80)            0         \n",
      "_________________________________________________________________\n",
      "lstm_1 (LSTM)                (None, 100)               72400     \n",
      "_________________________________________________________________\n",
      "dropout_1 (Dropout)          (None, 100)               0         \n",
      "_________________________________________________________________\n",
      "dense (Dense)                (None, 1)                 101       \n",
      "=================================================================\n",
      "Total params: 98,741\n",
      "Trainable params: 98,741\n",
      "Non-trainable params: 0\n",
      "_________________________________________________________________\n"
     ]
    }
   ],
   "source": [
    "# 模型参数\n",
    "model.summary()"
   ]
  },
  {
   "cell_type": "code",
   "execution_count": 29,
   "metadata": {},
   "outputs": [],
   "source": [
    "# 查看训练过程中梯度下降更新的weights和bias\n",
    "file = open('./weights.txt', 'w')  # 参数提取\n",
    "for v in model.trainable_variables:\n",
    "    file.write(str(v.name) + '\\n')\n",
    "    file.write(str(v.shape) + '\\n')\n",
    "    file.write(str(v.numpy()) + '\\n')\n",
    "file.close()"
   ]
  },
  {
   "cell_type": "code",
   "execution_count": 30,
   "metadata": {},
   "outputs": [
    {
     "data": {
      "image/png": "[encoded data removed]",
      "text/plain": [
       "<Figure size 432x288 with 1 Axes>"
      ]
     },
     "metadata": {
      "needs_background": "light"
     },
     "output_type": "display_data"
    }
   ],
   "source": [
    "# 绘图训练loss\n",
    "loss = history.history['loss']\n",
    "val_loss = history.history['val_loss']\n",
    "\n",
    "plt.plot(loss, label='train Loss')\n",
    "plt.plot(val_loss, label='Validation Loss')\n",
    "plt.title('train and Validation Loss')\n",
    "plt.legend()\n",
    "plt.show()"
   ]
  },
  {
   "cell_type": "code",
   "execution_count": 31,
   "metadata": {},
   "outputs": [
    {
     "data": {
      "image/png": "[encoded data removed]",
      "text/plain": [
       "<Figure size 432x288 with 1 Axes>"
      ]
     },
     "metadata": {
      "needs_background": "light"
     },
     "output_type": "display_data"
    }
   ],
   "source": [
    "################## predict ######################\n",
    "# 测试集输入模型进行预测\n",
    "predicted_stock_price = model.predict(x_test)\n",
    "# 对预测数据还原---从（0，1）反归一化到原始范围\n",
    "predicted_stock_price = sc.inverse_transform(predicted_stock_price)\n",
    "# 对真实数据还原---从（0，1）反归一化到原始范围\n",
    "real_stock_price = sc.inverse_transform(test_set[60:])\n",
    "# 画出真实数据和预测数据的对比曲线\n",
    "plt.plot(real_stock_price, color='red', label='meijimu Stock Price')\n",
    "plt.plot(predicted_stock_price, color='blue', label='Predicted meijimu Stock Price')\n",
    "plt.title('meijimu Stock Price Prediction')\n",
    "plt.xlabel('Time')\n",
    "plt.ylabel('meijimu Stock Price')\n",
    "plt.legend()\n",
    "plt.show()"
   ]
  },
  {
   "cell_type": "code",
   "execution_count": 32,
   "metadata": {},
   "outputs": [
    {
     "data": {
      "text/plain": [
       "(240, 1)"
      ]
     },
     "execution_count": 32,
     "metadata": {},
     "output_type": "execute_result"
    }
   ],
   "source": [
    "real_stock_price.shape"
   ]
  },
  {
   "cell_type": "code",
   "execution_count": 33,
   "metadata": {},
   "outputs": [
    {
     "name": "stdout",
     "output_type": "stream",
     "text": [
      "均方误差: 0.919053\n",
      "均方根误差: 0.958673\n",
      "平均绝对误差: 0.875848\n"
     ]
    }
   ],
   "source": [
    "##########evaluate##############\n",
    "# calculate MSE 均方误差 ---> E[(预测值-真实值)^2] (预测值减真实值求平方后求均值)\n",
    "mse = mean_squared_error(predicted_stock_price, real_stock_price)\n",
    "# calculate RMSE 均方根误差--->sqrt[MSE]    (对均方误差开方)\n",
    "rmse = math.sqrt(mean_squared_error(predicted_stock_price, real_stock_price))\n",
    "# calculate MAE 平均绝对误差----->E[|预测值-真实值|](预测值减真实值求绝对值后求均值）\n",
    "mae = mean_absolute_error(predicted_stock_price, real_stock_price)\n",
    "print('均方误差: %.6f' % mse)\n",
    "print('均方根误差: %.6f' % rmse)\n",
    "print('平均绝对误差: %.6f' % mae)"
   ]
  },
  {
   "cell_type": "markdown",
   "metadata": {},
   "source": [
    "<font color=red size=6>模型预测探索-失败，预测不能用预测数据作为测试集。。</font>\n",
    "\n",
    "<font color=red size=6>要考虑在输入、输出时间步长上处理这个问题</font>"
   ]
  },
  {
   "cell_type": "code",
   "execution_count": 158,
   "metadata": {},
   "outputs": [],
   "source": [
    "x_predict = list(y_test[-60:])"
   ]
  },
  {
   "cell_type": "code",
   "execution_count": 159,
   "metadata": {},
   "outputs": [],
   "source": [
    "y_predict = list()"
   ]
  },
  {
   "cell_type": "code",
   "execution_count": 160,
   "metadata": {},
   "outputs": [],
   "source": [
    "# 预测未来30天，将每60时序预测的值作为新的60时序的结尾值，输入模型进行预测\n",
    "for i in range(30):\n",
    "    temp_predict = model.predict(np.reshape(np.array(x_predict),(1,60,1)))[0][0]\n",
    "    y_predict.append(temp_predict)\n",
    "    x_predict.append(temp_predict)\n",
    "    x_predict = x_predict[1:]"
   ]
  },
  {
   "cell_type": "code",
   "execution_count": 161,
   "metadata": {},
   "outputs": [],
   "source": [
    "y_forecast = np.reshape(np.array(y_predict),(len(y_predict),1))\n",
    "y_forecast = sc.inverse_transform(y_forecast) # 反转归一化\n",
    "y_forecast = np.concatenate((predicted_stock_price,y_forecast))"
   ]
  },
  {
   "cell_type": "code",
   "execution_count": 163,
   "metadata": {},
   "outputs": [
    {
     "data": {
      "image/png": "[encoded data removed]",
      "text/plain": [
       "<Figure size 432x288 with 1 Axes>"
      ]
     },
     "metadata": {
      "needs_background": "light"
     },
     "output_type": "display_data"
    }
   ],
   "source": [
    "plt.plot(real_stock_price, color='red', label='meijimu Stock Price')\n",
    "plt.plot(predicted_stock_price, color='blue', label='Predicted meijimu Stock Price')\n",
    "plt.plot(y_forecast, color='green', label='Forecast the future 30-day trend')\n",
    "plt.title('meijimu Stock Price Prediction')\n",
    "plt.xlabel('Time')\n",
    "plt.ylabel('meijimu Stock Price')\n",
    "plt.legend()\n",
    "plt.show()="
   ]
  }
 ],
 "metadata": {
  "kernelspec": {
   "display_name": "Python 3.8.0 64-bit ('Bi_env': venv)",
   "language": "python",
   "name": "python38064bitbienvvenvba07af95a1bb4b078aa8134bba84dff2"
  },
  "language_info": {
   "codemirror_mode": {
    "name": "ipython",
    "version": 3
   },
   "file_extension": ".py",
   "mimetype": "text/x-python",
   "name": "python",
   "nbconvert_exporter": "python",
   "pygments_lexer": "ipython3",
   "version": "3.8.0"
  }
 },
 "nbformat": 4,
 "nbformat_minor": 4
}
