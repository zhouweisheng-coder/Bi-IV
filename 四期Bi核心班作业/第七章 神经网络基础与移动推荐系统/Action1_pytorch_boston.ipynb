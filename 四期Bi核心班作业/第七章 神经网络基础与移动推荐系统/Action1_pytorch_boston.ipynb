{
 "cells": [
  {
   "cell_type": "markdown",
   "metadata": {},
   "source": [
    "# Action1：使用Pytorch编写神经网络，完成boston房价预测问题\n"
   ]
  },
  {
   "cell_type": "code",
   "execution_count": 165,
   "metadata": {},
   "outputs": [],
   "source": [
    "from sklearn.datasets import load_boston\n",
    "# 数据加载\n",
    "data = load_boston()\n",
    "x = data['data']\n",
    "y = data['target']"
   ]
  },
  {
   "cell_type": "code",
   "execution_count": 166,
   "metadata": {},
   "outputs": [
    {
     "data": {
      "text/plain": [
       "(506, 13)"
      ]
     },
     "execution_count": 166,
     "metadata": {},
     "output_type": "execute_result"
    }
   ],
   "source": [
    "x.shape"
   ]
  },
  {
   "cell_type": "code",
   "execution_count": 167,
   "metadata": {},
   "outputs": [
    {
     "data": {
      "text/plain": [
       "(506,)"
      ]
     },
     "execution_count": 167,
     "metadata": {},
     "output_type": "execute_result"
    }
   ],
   "source": [
    "y.shape"
   ]
  },
  {
   "cell_type": "code",
   "execution_count": 168,
   "metadata": {},
   "outputs": [],
   "source": [
    "# 重新整理y形状，这里y本身就是1列的，不需要reshape了\n",
    "# y.reshape(-1,1)\n",
    "# y.shape"
   ]
  },
  {
   "cell_type": "code",
   "execution_count": 169,
   "metadata": {},
   "outputs": [],
   "source": [
    "# 数据规范化\n",
    "from sklearn.preprocessing import MinMaxScaler\n",
    "scaler = MinMaxScaler()\n",
    "x = scaler.fit_transform(x)"
   ]
  },
  {
   "cell_type": "code",
   "execution_count": 171,
   "metadata": {},
   "outputs": [
    {
     "data": {
      "text/plain": [
       "'torch.FloatTensor'"
      ]
     },
     "execution_count": 171,
     "metadata": {},
     "output_type": "execute_result"
    }
   ],
   "source": [
    "import torch\n",
    "# 数据转换ndarray-->Tensor\n",
    "x = torch.from_numpy(x).type(torch.FloatTensor)\n",
    "y = torch.from_numpy(y).type(torch.FloatTensor)\n",
    "x.type() # torch推荐使用.type()方法，type(x)这样用会直接输出tensor而不是FloatTensor"
   ]
  },
  {
   "cell_type": "code",
   "execution_count": 172,
   "metadata": {},
   "outputs": [],
   "source": [
    "# 数据切分\n",
    "from sklearn.model_selection import train_test_split"
   ]
  },
  {
   "cell_type": "code",
   "execution_count": 173,
   "metadata": {},
   "outputs": [],
   "source": [
    "train_x,test_x,train_y,test_y = train_test_split(x,y,test_size = 0.2)"
   ]
  },
  {
   "cell_type": "code",
   "execution_count": 174,
   "metadata": {},
   "outputs": [],
   "source": [
    "# 构造neural network\n",
    "from torch import nn"
   ]
  },
  {
   "cell_type": "code",
   "execution_count": 175,
   "metadata": {},
   "outputs": [],
   "source": [
    "model = nn.Sequential(\n",
    "        nn.Linear(13,20),\n",
    "        nn.ReLU(), # 大写注意\n",
    "        nn.Linear(20,1)\n",
    ")"
   ]
  },
  {
   "cell_type": "code",
   "execution_count": 176,
   "metadata": {},
   "outputs": [],
   "source": [
    "# 优化器和损失函数\n",
    "criterion = nn.MSELoss()\n",
    "optimizer = torch.optim.Adam(model.parameters(),lr=0.01) # 0.001和0.01常用,model.parameters()注意括号"
   ]
  },
  {
   "cell_type": "code",
   "execution_count": 177,
   "metadata": {
    "collapsed": true,
    "jupyter": {
     "outputs_hidden": true
    }
   },
   "outputs": [
    {
     "name": "stderr",
     "output_type": "stream",
     "text": [
      "D:\\Program Files\\Anaconda3\\envs\\Pytorch\\lib\\site-packages\\torch\\nn\\modules\\loss.py:432: UserWarning: Using a target size (torch.Size([404])) that is different to the input size (torch.Size([404, 1])). This will likely lead to incorrect results due to broadcasting. Please ensure they have the same size.\n",
      "  return F.mse_loss(input, target, reduction=self.reduction)\n"
     ]
    },
    {
     "name": "stdout",
     "output_type": "stream",
     "text": [
      "0 609.9312133789062\n",
      "1 605.514892578125\n",
      "2 601.290283203125\n",
      "3 597.1929931640625\n",
      "4 593.0210571289062\n",
      "5 588.6134643554688\n",
      "6 583.9528198242188\n",
      "7 579.01904296875\n",
      "8 573.7501220703125\n",
      "9 568.0833740234375\n",
      "10 561.983154296875\n",
      "11 555.43115234375\n",
      "12 548.419677734375\n",
      "13 540.944580078125\n",
      "14 533.0045166015625\n",
      "15 524.6001586914062\n",
      "16 515.7337646484375\n",
      "17 506.4100646972656\n",
      "18 496.6357116699219\n",
      "19 486.4201965332031\n",
      "20 475.7751770019531\n",
      "21 464.7149353027344\n",
      "22 453.2569885253906\n",
      "23 441.42132568359375\n",
      "24 429.2308044433594\n",
      "25 416.7118835449219\n",
      "26 403.8935546875\n",
      "27 390.80828857421875\n",
      "28 377.4916076660156\n",
      "29 363.9820251464844\n",
      "30 350.32135009765625\n",
      "31 336.5543518066406\n",
      "32 322.7284240722656\n",
      "33 308.8939514160156\n",
      "34 295.1036071777344\n",
      "35 281.4122619628906\n",
      "36 267.8765869140625\n",
      "37 254.55474853515625\n",
      "38 241.5059051513672\n",
      "39 228.78955078125\n",
      "40 216.46490478515625\n",
      "41 204.5902557373047\n",
      "42 193.22215270996094\n",
      "43 182.4144287109375\n",
      "44 172.21734619140625\n",
      "45 162.6763916015625\n",
      "46 153.8314208984375\n",
      "47 145.71539306640625\n",
      "48 138.35330200195312\n",
      "49 131.76116943359375\n",
      "50 125.94501495361328\n",
      "51 120.90027618408203\n",
      "52 116.61092376708984\n",
      "53 113.04961395263672\n",
      "54 110.17758178710938\n",
      "55 107.94538879394531\n",
      "56 106.29381561279297\n",
      "57 105.15567016601562\n",
      "58 104.45760345458984\n",
      "59 104.12236785888672\n",
      "60 104.07180786132812\n",
      "61 104.22917938232422\n",
      "62 104.52201080322266\n",
      "63 104.884521484375\n",
      "64 105.25926208496094\n",
      "65 105.59888458251953\n",
      "66 105.8666763305664\n",
      "67 106.03683471679688\n",
      "68 106.09402465820312\n",
      "69 106.03240203857422\n",
      "70 105.85427856445312\n",
      "71 105.56873321533203\n",
      "72 105.18972778320312\n",
      "73 104.73455810546875\n",
      "74 104.22220611572266\n",
      "75 103.67210388183594\n",
      "76 103.10282135009766\n",
      "77 102.53126525878906\n",
      "78 101.9720230102539\n",
      "79 101.43706512451172\n",
      "80 100.9354019165039\n",
      "81 100.47323608398438\n",
      "82 100.0541763305664\n",
      "83 99.67938232421875\n",
      "84 99.34798431396484\n",
      "85 99.05757141113281\n",
      "86 98.80438995361328\n",
      "87 98.58391571044922\n",
      "88 98.3911361694336\n",
      "89 98.22090911865234\n",
      "90 98.0681381225586\n",
      "91 97.9281005859375\n",
      "92 97.79657745361328\n",
      "93 97.66984558105469\n",
      "94 97.54493713378906\n",
      "95 97.41954803466797\n",
      "96 97.2919692993164\n",
      "97 97.1611328125\n",
      "98 97.02651977539062\n",
      "99 96.88809967041016\n",
      "100 96.7461929321289\n",
      "101 96.60144805908203\n",
      "102 96.4547119140625\n",
      "103 96.30691528320312\n",
      "104 96.1590805053711\n",
      "105 96.0121841430664\n",
      "106 95.86715698242188\n",
      "107 95.72480773925781\n",
      "108 95.58580017089844\n",
      "109 95.45067596435547\n",
      "110 95.31978607177734\n",
      "111 95.1933364868164\n",
      "112 95.07135009765625\n",
      "113 94.95382690429688\n",
      "114 94.84056854248047\n",
      "115 94.73133850097656\n",
      "116 94.62577819824219\n",
      "117 94.52361297607422\n",
      "118 94.42444610595703\n",
      "119 94.3279800415039\n",
      "120 94.23385620117188\n",
      "121 94.14181518554688\n",
      "122 94.05160522460938\n",
      "123 93.96305847167969\n",
      "124 93.87598419189453\n",
      "125 93.79034423828125\n",
      "126 93.70603942871094\n",
      "127 93.62305450439453\n",
      "128 93.54146575927734\n",
      "129 93.46119689941406\n",
      "130 93.38236236572266\n",
      "131 93.30499267578125\n",
      "132 93.22914123535156\n",
      "133 93.15485382080078\n",
      "134 93.08214569091797\n",
      "135 93.01109313964844\n",
      "136 92.941650390625\n",
      "137 92.87388610839844\n",
      "138 92.80769348144531\n",
      "139 92.74312591552734\n",
      "140 92.68014526367188\n",
      "141 92.61866760253906\n",
      "142 92.55868530273438\n",
      "143 92.50013732910156\n",
      "144 92.44294738769531\n",
      "145 92.38709259033203\n",
      "146 92.33251953125\n",
      "147 92.27919006347656\n",
      "148 92.22703552246094\n",
      "149 92.17606353759766\n",
      "150 92.1261978149414\n",
      "151 92.07743072509766\n",
      "152 92.02972412109375\n",
      "153 91.98307800292969\n",
      "154 91.93744659423828\n",
      "155 91.89280700683594\n",
      "156 91.84916687011719\n",
      "157 91.8065414428711\n",
      "158 91.76481628417969\n",
      "159 91.72404479980469\n",
      "160 91.68421936035156\n",
      "161 91.64527130126953\n",
      "162 91.60723114013672\n",
      "163 91.5700454711914\n",
      "164 91.53370666503906\n",
      "165 91.49818420410156\n",
      "166 91.46347045898438\n",
      "167 91.4295425415039\n",
      "168 91.3963851928711\n",
      "169 91.36393737792969\n",
      "170 91.33222961425781\n",
      "171 91.30120849609375\n",
      "172 91.27088165283203\n",
      "173 91.24120330810547\n",
      "174 91.21216583251953\n",
      "175 91.18375396728516\n",
      "176 91.15593719482422\n",
      "177 91.12873840332031\n",
      "178 91.10210418701172\n",
      "179 91.07600402832031\n",
      "180 91.05047607421875\n",
      "181 91.02547454833984\n",
      "182 91.0009765625\n",
      "183 90.97701263427734\n",
      "184 90.95350646972656\n",
      "185 90.93048858642578\n",
      "186 90.90794372558594\n",
      "187 90.88584899902344\n",
      "188 90.86418914794922\n",
      "189 90.84295654296875\n",
      "190 90.82213592529297\n",
      "191 90.80171966552734\n",
      "192 90.78170013427734\n",
      "193 90.76205444335938\n",
      "194 90.74278259277344\n",
      "195 90.7238540649414\n",
      "196 90.7052993774414\n",
      "197 90.68706512451172\n",
      "198 90.6691665649414\n",
      "199 90.65159606933594\n",
      "200 90.63431549072266\n",
      "201 90.61734771728516\n",
      "202 90.60067749023438\n",
      "203 90.58429718017578\n",
      "204 90.56818389892578\n",
      "205 90.5523452758789\n",
      "206 90.53675842285156\n",
      "207 90.52142333984375\n",
      "208 90.50636291503906\n",
      "209 90.49153137207031\n",
      "210 90.4769287109375\n",
      "211 90.46256256103516\n",
      "212 90.44840240478516\n",
      "213 90.43445587158203\n",
      "214 90.42074584960938\n",
      "215 90.40721130371094\n",
      "216 90.3938980102539\n",
      "217 90.38076782226562\n",
      "218 90.36781311035156\n",
      "219 90.35506439208984\n",
      "220 90.34247589111328\n",
      "221 90.33007049560547\n",
      "222 90.3178482055664\n",
      "223 90.30577087402344\n",
      "224 90.2938461303711\n",
      "225 90.2821044921875\n",
      "226 90.27050018310547\n",
      "227 90.25904846191406\n",
      "228 90.24774169921875\n",
      "229 90.236572265625\n",
      "230 90.22554016113281\n",
      "231 90.21466064453125\n",
      "232 90.20390319824219\n",
      "233 90.19326782226562\n",
      "234 90.18275451660156\n",
      "235 90.17237091064453\n",
      "236 90.162109375\n",
      "237 90.15198516845703\n",
      "238 90.1419448852539\n",
      "239 90.13201904296875\n",
      "240 90.12223052978516\n",
      "241 90.11253356933594\n",
      "242 90.1029281616211\n",
      "243 90.09344482421875\n",
      "244 90.08406829833984\n",
      "245 90.07477569580078\n",
      "246 90.06558990478516\n",
      "247 90.05648040771484\n",
      "248 90.0474853515625\n",
      "249 90.03857421875\n",
      "250 90.02975463867188\n",
      "251 90.02103424072266\n",
      "252 90.01239013671875\n",
      "253 90.00382232666016\n",
      "254 89.99535369873047\n",
      "255 89.98695373535156\n",
      "256 89.97864532470703\n",
      "257 89.97040557861328\n",
      "258 89.9622573852539\n",
      "259 89.95418548583984\n",
      "260 89.94618225097656\n",
      "261 89.93824005126953\n",
      "262 89.93038940429688\n",
      "263 89.92261505126953\n",
      "264 89.91490173339844\n",
      "265 89.90726470947266\n",
      "266 89.89968872070312\n",
      "267 89.8921890258789\n",
      "268 89.8847427368164\n",
      "269 89.87736511230469\n",
      "270 89.87007141113281\n",
      "271 89.86282348632812\n",
      "272 89.85563659667969\n",
      "273 89.84849548339844\n",
      "274 89.84146118164062\n",
      "275 89.83445739746094\n",
      "276 89.82750701904297\n",
      "277 89.82063293457031\n",
      "278 89.8138198852539\n",
      "279 89.80704498291016\n",
      "280 89.80033111572266\n",
      "281 89.7936782836914\n",
      "282 89.78707885742188\n",
      "283 89.78053283691406\n",
      "284 89.77405548095703\n",
      "285 89.76759338378906\n",
      "286 89.76121520996094\n",
      "287 89.75487518310547\n",
      "288 89.74858093261719\n",
      "289 89.74235534667969\n",
      "290 89.73616790771484\n",
      "291 89.73003387451172\n",
      "292 89.72394561767578\n",
      "293 89.7178955078125\n",
      "294 89.7118911743164\n",
      "295 89.70596313476562\n",
      "296 89.7000503540039\n",
      "297 89.69419860839844\n",
      "298 89.68838500976562\n",
      "299 89.6826171875\n"
     ]
    }
   ],
   "source": [
    "# 训练\n",
    "epoch = 300\n",
    "iter_loss = []\n",
    "for i in range(epoch):\n",
    "    # 前向传播\n",
    "    y_pred = model(train_x)\n",
    "    # 计算loss\n",
    "    loss = criterion(y_pred, train_y)\n",
    "    print(i,loss.item())\n",
    "    iter_loss.append(loss.item())\n",
    "    # 清空梯度，torch特别的地方\n",
    "    optimizer.zero_grad()\n",
    "    # 反向传播\n",
    "    loss.backward()\n",
    "    # 权重调整\n",
    "    optimizer.step()"
   ]
  },
  {
   "cell_type": "code",
   "execution_count": 181,
   "metadata": {},
   "outputs": [
    {
     "data": {
      "text/plain": [
       "array([[23.426916],\n",
       "       [21.707548],\n",
       "       [18.678255],\n",
       "       [20.546831],\n",
       "       [21.504692],\n",
       "       [22.91509 ],\n",
       "       [25.005516],\n",
       "       [18.825909],\n",
       "       [24.680193],\n",
       "       [19.512232]], dtype=float32)"
      ]
     },
     "execution_count": 181,
     "metadata": {},
     "output_type": "execute_result"
    }
   ],
   "source": [
    "# 测试\n",
    "output = model(test_x)\n",
    "predict_list = output.detach().numpy() # detach从最近的graph中分离tensor，Can't call numpy() on Variable that requires grad. Use var.detach().numpy() instead\n",
    "predict_list[:10]"
   ]
  },
  {
   "cell_type": "code",
   "execution_count": 182,
   "metadata": {},
   "outputs": [
    {
     "data": {
      "text/plain": [
       "tensor([19.3000, 30.1000, 22.8000, 14.5000, 36.0000, 37.6000, 18.5000, 15.6000,\n",
       "         8.1000, 35.1000])"
      ]
     },
     "execution_count": 182,
     "metadata": {},
     "output_type": "execute_result"
    }
   ],
   "source": [
    "test_y[:10]"
   ]
  },
  {
   "cell_type": "code",
   "execution_count": 183,
   "metadata": {},
   "outputs": [
    {
     "data": {
      "image/png": "[encoded data removed]",
      "text/plain": [
       "<Figure size 432x288 with 1 Axes>"
      ]
     },
     "metadata": {
      "needs_background": "light"
     },
     "output_type": "display_data"
    }
   ],
   "source": [
    "# 绘制不同iteration的loss\n",
    "import matplotlib.pyplot as plt\n",
    "import numpy as np\n",
    "plot_x = np.arange(epoch)\n",
    "plot_y = np.array(iter_loss)\n",
    "plt.plot(plot_x,plot_y)\n",
    "plt.title('Loss Value in all iterations')\n",
    "plt.xlabel('iteration') #迭代次数\n",
    "plt.ylabel('Mean Loss Value')\n",
    "plt.show()"
   ]
  },
  {
   "cell_type": "code",
   "execution_count": 184,
   "metadata": {},
   "outputs": [
    {
     "data": {
      "image/png": "[encoded data removed]",
      "text/plain": [
       "<Figure size 432x288 with 1 Axes>"
      ]
     },
     "metadata": {
      "needs_background": "light"
     },
     "output_type": "display_data"
    }
   ],
   "source": [
    "# 查看真实值与与测试的散点图\n",
    "scatter_x = np.arange(test_x.shape[0])\n",
    "y1 = np.array(predict_list) # 预测值\n",
    "y2 = np.array(test_y) # 真实值\n",
    "line1 = plt.scatter(scatter_x , y1, c = 'red')\n",
    "line2 = plt.scatter(scatter_x , y2 , c = 'blue')\n",
    "plt.legend([line1,line2],['predict','real'])  # 图例\n",
    "plt.title('Prediction VS RealValue')\n",
    "plt.ylabel('Boston House Price')\n",
    "plt.show()"
   ]
  }
 ],
 "metadata": {
  "kernelspec": {
   "display_name": "Python 3.8.0 64-bit ('Pytorch': conda)",
   "language": "python",
   "name": "python38064bitpytorchcondac942a691429d4c98a336a9181186ec56"
  },
  "language_info": {
   "codemirror_mode": {
    "name": "ipython",
    "version": 3
   },
   "file_extension": ".py",
   "mimetype": "text/x-python",
   "name": "python",
   "nbconvert_exporter": "python",
   "pygments_lexer": "ipython3",
   "version": "3.8.0"
  }
 },
 "nbformat": 4,
 "nbformat_minor": 4
}
