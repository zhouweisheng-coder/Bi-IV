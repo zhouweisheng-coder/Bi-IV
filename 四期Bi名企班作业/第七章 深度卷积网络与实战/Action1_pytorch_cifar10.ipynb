{
 "cells": [
  {
   "cell_type": "markdown",
   "metadata": {},
   "source": [
    "# Action1_pytorch_cifar10"
   ]
  },
  {
   "cell_type": "code",
   "execution_count": 11,
   "metadata": {},
   "outputs": [],
   "source": [
    "import torch\n",
    "import torch.nn as nn\n",
    "import torch.optim as optim\n",
    "import torchvision\n",
    "import torchvision.datasets as datasets\n",
    "import torchvision.transforms as transforms\n",
    "import matplotlib.pyplot as plt\n",
    "import time\n",
    "from torch.utils.data import DataLoader"
   ]
  },
  {
   "cell_type": "code",
   "execution_count": 12,
   "metadata": {},
   "outputs": [],
   "source": [
    "# 数据加载\n",
    "train_data = datasets.CIFAR10(root='./',train=True, transform=transforms.ToTensor()) #  download=True\n",
    "test_data = datasets.CIFAR10(root='./',train=False, transform=transforms.ToTensor())"
   ]
  },
  {
   "cell_type": "code",
   "execution_count": 90,
   "metadata": {},
   "outputs": [
    {
     "data": {
      "text/plain": [
       "((50000, 32, 32, 3), (10000, 32, 32, 3))"
      ]
     },
     "execution_count": 90,
     "metadata": {},
     "output_type": "execute_result"
    }
   ],
   "source": [
    "# 50000训练图片，10000测试图片\n",
    "train_data.data.shape,test_data.data.shape"
   ]
  },
  {
   "cell_type": "code",
   "execution_count": 95,
   "metadata": {},
   "outputs": [
    {
     "data": {
      "text/plain": [
       "<matplotlib.image.AxesImage at 0x7f2679c21410>"
      ]
     },
     "execution_count": 95,
     "metadata": {},
     "output_type": "execute_result"
    },
    {
     "data": {
      "image/png": "[encoded data removed]",
      "text/plain": [
       "<Figure size 432x288 with 1 Axes>"
      ]
     },
     "metadata": {
      "needs_background": "light"
     },
     "output_type": "display_data"
    }
   ],
   "source": [
    "plt.imshow(train_data.data[1])"
   ]
  },
  {
   "cell_type": "code",
   "execution_count": 77,
   "metadata": {},
   "outputs": [
    {
     "name": "stdout",
     "output_type": "stream",
     "text": [
      "(3, 32, 32)\n",
      "[[[0.6039216  0.49411765 0.4117647  ... 0.35686275 0.34117648 0.30980393]\n",
      "  [0.54901963 0.5686275  0.49019608 ... 0.3764706  0.3019608  0.2784314 ]\n",
      "  [0.54901963 0.54509807 0.4509804  ... 0.30980393 0.26666668 0.2627451 ]\n",
      "  ...\n",
      "  [0.6862745  0.6117647  0.6039216  ... 0.16470589 0.23921569 0.3647059 ]\n",
      "  [0.64705884 0.6117647  0.62352943 ... 0.40392157 0.48235294 0.5137255 ]\n",
      "  [0.6392157  0.61960787 0.6392157  ... 0.56078434 0.56078434 0.56078434]]\n",
      "\n",
      " [[0.69411767 0.5372549  0.40784314 ... 0.37254903 0.3529412  0.31764707]\n",
      "  [0.627451   0.6        0.49019608 ... 0.3882353  0.3137255  0.28627452]\n",
      "  [0.60784316 0.57254905 0.4509804  ... 0.32156864 0.27450982 0.27058825]\n",
      "  ...\n",
      "  [0.654902   0.6039216  0.627451   ... 0.13333334 0.20784314 0.3254902 ]\n",
      "  [0.6039216  0.59607846 0.6313726  ... 0.3647059  0.44705883 0.4745098 ]\n",
      "  [0.5803922  0.5803922  0.6117647  ... 0.52156866 0.5254902  0.52156866]]\n",
      "\n",
      " [[0.73333335 0.53333336 0.37254903 ... 0.2784314  0.2784314  0.27450982]\n",
      "  [0.6627451  0.6039216  0.4627451  ... 0.30588236 0.24313726 0.23921569]\n",
      "  [0.6431373  0.58431375 0.4392157  ... 0.2509804  0.21568628 0.21568628]\n",
      "  ...\n",
      "  [0.6509804  0.627451   0.6666667  ... 0.14117648 0.22352941 0.35686275]\n",
      "  [0.5019608  0.50980395 0.5568628  ... 0.3764706  0.47058824 0.5137255 ]\n",
      "  [0.47058824 0.47843137 0.52156866 ... 0.54509807 0.5568628  0.5647059 ]]]\n",
      "(32, 32, 3)\n",
      "[[[0.6039216  0.69411767 0.73333335]\n",
      "  [0.49411765 0.5372549  0.53333336]\n",
      "  [0.4117647  0.40784314 0.37254903]\n",
      "  ...\n",
      "  [0.35686275 0.37254903 0.2784314 ]\n",
      "  [0.34117648 0.3529412  0.2784314 ]\n",
      "  [0.30980393 0.31764707 0.27450982]]\n",
      "\n",
      " [[0.54901963 0.627451   0.6627451 ]\n",
      "  [0.5686275  0.6        0.6039216 ]\n",
      "  [0.49019608 0.49019608 0.4627451 ]\n",
      "  ...\n",
      "  [0.3764706  0.3882353  0.30588236]\n",
      "  [0.3019608  0.3137255  0.24313726]\n",
      "  [0.2784314  0.28627452 0.23921569]]\n",
      "\n",
      " [[0.54901963 0.60784316 0.6431373 ]\n",
      "  [0.54509807 0.57254905 0.58431375]\n",
      "  [0.4509804  0.4509804  0.4392157 ]\n",
      "  ...\n",
      "  [0.30980393 0.32156864 0.2509804 ]\n",
      "  [0.26666668 0.27450982 0.21568628]\n",
      "  [0.2627451  0.27058825 0.21568628]]\n",
      "\n",
      " ...\n",
      "\n",
      " [[0.6862745  0.654902   0.6509804 ]\n",
      "  [0.6117647  0.6039216  0.627451  ]\n",
      "  [0.6039216  0.627451   0.6666667 ]\n",
      "  ...\n",
      "  [0.16470589 0.13333334 0.14117648]\n",
      "  [0.23921569 0.20784314 0.22352941]\n",
      "  [0.3647059  0.3254902  0.35686275]]\n",
      "\n",
      " [[0.64705884 0.6039216  0.5019608 ]\n",
      "  [0.6117647  0.59607846 0.50980395]\n",
      "  [0.62352943 0.6313726  0.5568628 ]\n",
      "  ...\n",
      "  [0.40392157 0.3647059  0.3764706 ]\n",
      "  [0.48235294 0.44705883 0.47058824]\n",
      "  [0.5137255  0.4745098  0.5137255 ]]\n",
      "\n",
      " [[0.6392157  0.5803922  0.47058824]\n",
      "  [0.61960787 0.5803922  0.47843137]\n",
      "  [0.6392157  0.6117647  0.52156866]\n",
      "  ...\n",
      "  [0.56078434 0.52156866 0.54509807]\n",
      "  [0.56078434 0.5254902  0.5568628 ]\n",
      "  [0.56078434 0.52156866 0.5647059 ]]]\n"
     ]
    },
    {
     "data": {
      "text/plain": [
       "<matplotlib.image.AxesImage at 0x7f267a153b90>"
      ]
     },
     "execution_count": 77,
     "metadata": {},
     "output_type": "execute_result"
    },
    {
     "data": {
      "image/png": "[encoded data removed]",
      "text/plain": [
       "<Figure size 432x288 with 1 Axes>"
      ]
     },
     "metadata": {
      "needs_background": "light"
     },
     "output_type": "display_data"
    }
   ],
   "source": [
    "# 输出图像,\n",
    "temp = train_data[1][0].numpy()\n",
    "print(temp.shape)\n",
    "print(temp)\n",
    "temp = temp.transpose(1, 2, 0) # 调换temp.shape的三个维度0，1，2位置\n",
    "print(temp.shape)\n",
    "print(temp)\n",
    "plt.imshow(temp)"
   ]
  },
  {
   "cell_type": "code",
   "execution_count": 98,
   "metadata": {},
   "outputs": [],
   "source": [
    "# 超参数定义\n",
    "EPOCH = 10\n",
    "BATCH_SIZE = 128\n",
    "LR = 0.001  # 学习率\n",
    "\n",
    "# 使用DataLoader进行分批,一批64副图像，分782批\n",
    "train_loader = DataLoader(dataset=train_data, batch_size=BATCH_SIZE, shuffle=True)\n",
    "test_loader = DataLoader(dataset=test_data, batch_size=BATCH_SIZE) # 没有shuffle，因为不进行训练\n",
    "\n",
    "# 使用ResNet\n",
    "model = torchvision.models.resnet18(pretrained=True) # 进行预训练,models注意有s"
   ]
  },
  {
   "cell_type": "code",
   "execution_count": 99,
   "metadata": {},
   "outputs": [
    {
     "data": {
      "text/plain": [
       "ResNet(\n",
       "  (conv1): Conv2d(3, 64, kernel_size=(7, 7), stride=(2, 2), padding=(3, 3), bias=False)\n",
       "  (bn1): BatchNorm2d(64, eps=1e-05, momentum=0.1, affine=True, track_running_stats=True)\n",
       "  (relu): ReLU(inplace=True)\n",
       "  (maxpool): MaxPool2d(kernel_size=3, stride=2, padding=1, dilation=1, ceil_mode=False)\n",
       "  (layer1): Sequential(\n",
       "    (0): BasicBlock(\n",
       "      (conv1): Conv2d(64, 64, kernel_size=(3, 3), stride=(1, 1), padding=(1, 1), bias=False)\n",
       "      (bn1): BatchNorm2d(64, eps=1e-05, momentum=0.1, affine=True, track_running_stats=True)\n",
       "      (relu): ReLU(inplace=True)\n",
       "      (conv2): Conv2d(64, 64, kernel_size=(3, 3), stride=(1, 1), padding=(1, 1), bias=False)\n",
       "      (bn2): BatchNorm2d(64, eps=1e-05, momentum=0.1, affine=True, track_running_stats=True)\n",
       "    )\n",
       "    (1): BasicBlock(\n",
       "      (conv1): Conv2d(64, 64, kernel_size=(3, 3), stride=(1, 1), padding=(1, 1), bias=False)\n",
       "      (bn1): BatchNorm2d(64, eps=1e-05, momentum=0.1, affine=True, track_running_stats=True)\n",
       "      (relu): ReLU(inplace=True)\n",
       "      (conv2): Conv2d(64, 64, kernel_size=(3, 3), stride=(1, 1), padding=(1, 1), bias=False)\n",
       "      (bn2): BatchNorm2d(64, eps=1e-05, momentum=0.1, affine=True, track_running_stats=True)\n",
       "    )\n",
       "  )\n",
       "  (layer2): Sequential(\n",
       "    (0): BasicBlock(\n",
       "      (conv1): Conv2d(64, 128, kernel_size=(3, 3), stride=(2, 2), padding=(1, 1), bias=False)\n",
       "      (bn1): BatchNorm2d(128, eps=1e-05, momentum=0.1, affine=True, track_running_stats=True)\n",
       "      (relu): ReLU(inplace=True)\n",
       "      (conv2): Conv2d(128, 128, kernel_size=(3, 3), stride=(1, 1), padding=(1, 1), bias=False)\n",
       "      (bn2): BatchNorm2d(128, eps=1e-05, momentum=0.1, affine=True, track_running_stats=True)\n",
       "      (downsample): Sequential(\n",
       "        (0): Conv2d(64, 128, kernel_size=(1, 1), stride=(2, 2), bias=False)\n",
       "        (1): BatchNorm2d(128, eps=1e-05, momentum=0.1, affine=True, track_running_stats=True)\n",
       "      )\n",
       "    )\n",
       "    (1): BasicBlock(\n",
       "      (conv1): Conv2d(128, 128, kernel_size=(3, 3), stride=(1, 1), padding=(1, 1), bias=False)\n",
       "      (bn1): BatchNorm2d(128, eps=1e-05, momentum=0.1, affine=True, track_running_stats=True)\n",
       "      (relu): ReLU(inplace=True)\n",
       "      (conv2): Conv2d(128, 128, kernel_size=(3, 3), stride=(1, 1), padding=(1, 1), bias=False)\n",
       "      (bn2): BatchNorm2d(128, eps=1e-05, momentum=0.1, affine=True, track_running_stats=True)\n",
       "    )\n",
       "  )\n",
       "  (layer3): Sequential(\n",
       "    (0): BasicBlock(\n",
       "      (conv1): Conv2d(128, 256, kernel_size=(3, 3), stride=(2, 2), padding=(1, 1), bias=False)\n",
       "      (bn1): BatchNorm2d(256, eps=1e-05, momentum=0.1, affine=True, track_running_stats=True)\n",
       "      (relu): ReLU(inplace=True)\n",
       "      (conv2): Conv2d(256, 256, kernel_size=(3, 3), stride=(1, 1), padding=(1, 1), bias=False)\n",
       "      (bn2): BatchNorm2d(256, eps=1e-05, momentum=0.1, affine=True, track_running_stats=True)\n",
       "      (downsample): Sequential(\n",
       "        (0): Conv2d(128, 256, kernel_size=(1, 1), stride=(2, 2), bias=False)\n",
       "        (1): BatchNorm2d(256, eps=1e-05, momentum=0.1, affine=True, track_running_stats=True)\n",
       "      )\n",
       "    )\n",
       "    (1): BasicBlock(\n",
       "      (conv1): Conv2d(256, 256, kernel_size=(3, 3), stride=(1, 1), padding=(1, 1), bias=False)\n",
       "      (bn1): BatchNorm2d(256, eps=1e-05, momentum=0.1, affine=True, track_running_stats=True)\n",
       "      (relu): ReLU(inplace=True)\n",
       "      (conv2): Conv2d(256, 256, kernel_size=(3, 3), stride=(1, 1), padding=(1, 1), bias=False)\n",
       "      (bn2): BatchNorm2d(256, eps=1e-05, momentum=0.1, affine=True, track_running_stats=True)\n",
       "    )\n",
       "  )\n",
       "  (layer4): Sequential(\n",
       "    (0): BasicBlock(\n",
       "      (conv1): Conv2d(256, 512, kernel_size=(3, 3), stride=(2, 2), padding=(1, 1), bias=False)\n",
       "      (bn1): BatchNorm2d(512, eps=1e-05, momentum=0.1, affine=True, track_running_stats=True)\n",
       "      (relu): ReLU(inplace=True)\n",
       "      (conv2): Conv2d(512, 512, kernel_size=(3, 3), stride=(1, 1), padding=(1, 1), bias=False)\n",
       "      (bn2): BatchNorm2d(512, eps=1e-05, momentum=0.1, affine=True, track_running_stats=True)\n",
       "      (downsample): Sequential(\n",
       "        (0): Conv2d(256, 512, kernel_size=(1, 1), stride=(2, 2), bias=False)\n",
       "        (1): BatchNorm2d(512, eps=1e-05, momentum=0.1, affine=True, track_running_stats=True)\n",
       "      )\n",
       "    )\n",
       "    (1): BasicBlock(\n",
       "      (conv1): Conv2d(512, 512, kernel_size=(3, 3), stride=(1, 1), padding=(1, 1), bias=False)\n",
       "      (bn1): BatchNorm2d(512, eps=1e-05, momentum=0.1, affine=True, track_running_stats=True)\n",
       "      (relu): ReLU(inplace=True)\n",
       "      (conv2): Conv2d(512, 512, kernel_size=(3, 3), stride=(1, 1), padding=(1, 1), bias=False)\n",
       "      (bn2): BatchNorm2d(512, eps=1e-05, momentum=0.1, affine=True, track_running_stats=True)\n",
       "    )\n",
       "  )\n",
       "  (avgpool): AdaptiveAvgPool2d(output_size=(1, 1))\n",
       "  (fc): Linear(in_features=512, out_features=1000, bias=True)\n",
       ")"
      ]
     },
     "execution_count": 99,
     "metadata": {},
     "output_type": "execute_result"
    }
   ],
   "source": [
    "# 定义损失函数为交叉熵，二分类常用损失函数\n",
    "criterion = nn.CrossEntropyLoss()\n",
    "\n",
    "# 定义优化器为adam，引入二阶动量\n",
    "optimizer = optim.Adam(model.parameters(), lr=LR)\n",
    "\n",
    "# 定义device  gpu\n",
    "device = torch.device('cuda:0' if torch.cuda.is_available() else 'cpu')\n",
    "model.to(device)"
   ]
  },
  {
   "cell_type": "code",
   "execution_count": 100,
   "metadata": {},
   "outputs": [
    {
     "name": "stdout",
     "output_type": "stream",
     "text": [
      "epoch1 loss: 0.7616 time 70.1090\n",
      "epoch2 loss: 0.7604 time 69.6568\n",
      "epoch3 loss: 0.5257 time 69.9501\n",
      "epoch4 loss: 0.4463 time 69.8382\n",
      "epoch5 loss: 0.5956 time 70.0077\n",
      "epoch6 loss: 0.2346 time 70.4371\n",
      "epoch7 loss: 0.3216 time 70.1007\n",
      "epoch8 loss: 0.2577 time 69.7948\n",
      "epoch9 loss: 0.2251 time 70.3087\n",
      "epoch10 loss: 0.1250 time 69.9635\n"
     ]
    }
   ],
   "source": [
    "# 训练,cpu环境\n",
    "for epoch in range(EPOCH):\n",
    "    start_time = time.time()\n",
    "    for i, data in enumerate(train_loader):\n",
    "        inputs, labels = data\n",
    "#         inputs, labels = inputs.to(device), labels.to(device) # 如果有gpu将数据放到gpu里\n",
    "        # 前向传播\n",
    "        outputs = model(inputs)\n",
    "        # 计算损失函数\n",
    "        loss = criterion(outputs, labels)\n",
    "        # 清空上一轮梯度\n",
    "        optimizer.zero_grad()\n",
    "        # 反向传播\n",
    "        loss.backward()\n",
    "        # 知道梯度方向以后，参数更新\n",
    "        optimizer.step()\n",
    "    print('epoch{} loss:{: .4f} time{: .4f}'.format(epoch+1, loss.item(), time.time()-start_time))"
   ]
  },
  {
   "cell_type": "code",
   "execution_count": 101,
   "metadata": {},
   "outputs": [
    {
     "name": "stdout",
     "output_type": "stream",
     "text": [
      "cifar10_resnet.pt saved \n"
     ]
    }
   ],
   "source": [
    "# 保存训练模型\n",
    "file_name = 'cifar10_resnet.pt'\n",
    "torch.save(model, file_name)\n",
    "print(file_name + ' saved ')"
   ]
  },
  {
   "cell_type": "code",
   "execution_count": 102,
   "metadata": {},
   "outputs": [
    {
     "name": "stdout",
     "output_type": "stream",
     "text": [
      "10000张测试图像的准确率： 79.8400\n"
     ]
    }
   ],
   "source": [
    "# 测试\n",
    "model = torch.load(file_name)\n",
    "model.eval()  # 不启用 BatchNormalization 和 Dropout,固定BN和dropout层，使得偏置参数不随着发生变化。因为当batchsize小时，如果没有固定，会对图像的失真有很大的影响\n",
    "\n",
    "correct, total = 0, 0\n",
    "for data in test_loader:\n",
    "    images, labels = data\n",
    "    images, labels = images.to(device), labels.to(device)\n",
    "    # 前向传播\n",
    "    out = model(images)\n",
    "    # 预测结果\n",
    "    _, predicted = torch.max(out.data, 1)\n",
    "    # 判断预测结果与实际结果是否一致\n",
    "    total += labels.size(0)\n",
    "    correct += (predicted==labels).sum().item()\n",
    "    \n",
    "# 输出识别准确率\n",
    "print('10000张测试图像的准确率：{: .4f}'.format(100*correct/total))"
   ]
  },
  {
   "cell_type": "code",
   "execution_count": 103,
   "metadata": {},
   "outputs": [
    {
     "data": {
      "text/plain": [
       "torch.return_types.max(\n",
       "values=tensor([10.5876, 13.8441,  9.7160, 13.9375, 21.3442, 12.6578, 17.7501, 12.2050,\n",
       "        16.3147, 13.3066, 14.7981, 12.0003, 11.9597, 17.4236, 12.1771, 15.5576]),\n",
       "indices=tensor([7, 5, 8, 0, 8, 4, 7, 0, 3, 3, 3, 0, 3, 5, 0, 7]))"
      ]
     },
     "execution_count": 103,
     "metadata": {},
     "output_type": "execute_result"
    }
   ],
   "source": [
    "# values是给定维中的每行张量的最大值；indices是找到的每个最大值的索引位置。\n",
    "# 最大值相当于softmax的概率最大的位置的索引，就是分类的标签\n",
    "torch.max(out.data,1)"
   ]
  },
  {
   "cell_type": "code",
   "execution_count": 104,
   "metadata": {},
   "outputs": [
    {
     "data": {
      "text/plain": [
       "torch.Size([16, 1000])"
      ]
     },
     "execution_count": 104,
     "metadata": {},
     "output_type": "execute_result"
    }
   ],
   "source": [
    "out.data.shape"
   ]
  },
  {
   "cell_type": "code",
   "execution_count": 105,
   "metadata": {},
   "outputs": [
    {
     "data": {
      "text/plain": [
       "tensor(10.5876)"
      ]
     },
     "execution_count": 105,
     "metadata": {},
     "output_type": "execute_result"
    }
   ],
   "source": [
    "max(out.data[0])"
   ]
  },
  {
   "cell_type": "code",
   "execution_count": 66,
   "metadata": {},
   "outputs": [
    {
     "data": {
      "text/plain": [
       "10000"
      ]
     },
     "execution_count": 66,
     "metadata": {},
     "output_type": "execute_result"
    }
   ],
   "source": [
    "total"
   ]
  },
  {
   "cell_type": "code",
   "execution_count": 67,
   "metadata": {},
   "outputs": [
    {
     "data": {
      "text/plain": [
       "16"
      ]
     },
     "execution_count": 67,
     "metadata": {},
     "output_type": "execute_result"
    }
   ],
   "source": [
    "labels.size(0)"
   ]
  }
 ],
 "metadata": {
  "kernelspec": {
   "display_name": "Python 3",
   "language": "python",
   "name": "python3"
  },
  "language_info": {
   "codemirror_mode": {
    "name": "ipython",
    "version": 3
   },
   "file_extension": ".py",
   "mimetype": "text/x-python",
   "name": "python",
   "nbconvert_exporter": "python",
   "pygments_lexer": "ipython3",
   "version": "3.7.6"
  }
 },
 "nbformat": 4,
 "nbformat_minor": 4
}
